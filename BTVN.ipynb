{
 "cells": [
  {
   "cell_type": "code",
   "execution_count": 11,
   "id": "905a4fcd-a92d-49a1-a683-20cb07c0f3fa",
   "metadata": {},
   "outputs": [
    {
     "name": "stdin",
     "output_type": "stream",
     "text": [
      "Nhập số bất kỳ:  25\n"
     ]
    },
    {
     "name": "stdout",
     "output_type": "stream",
     "text": [
      "25 không phải là số nguyên tố\n"
     ]
    }
   ],
   "source": [
    "n = int(input(\"Nhập số bất kỳ: \"))\n",
    "\n",
    "if n <=1: \n",
    "    print(n, \"không phải là số nguyên tố\")\n",
    "elif n ==2 or n ==3:\n",
    "    print(n, \"là số nguyên tố\")\n",
    "else:\n",
    "    i = 2\n",
    "    is_prime = True\n",
    "    while i*i <=n:\n",
    "        if n%i==0:\n",
    "            is_prime = False\n",
    "            break\n",
    "        i+=1\n",
    "    if is_prime == True:\n",
    "        print(n, \"là số nguyên tố\")\n",
    "    else: \n",
    "        print(n, \"không phải là số nguyên tố\")\n",
    "    \n"
   ]
  },
  {
   "cell_type": "code",
   "execution_count": null,
   "id": "5ac4ea6a-f40a-4208-a254-b105acf65263",
   "metadata": {},
   "outputs": [],
   "source": [
    "a=0, b=1\n",
    "0+1=1\n",
    "1+1=2\n",
    "1+2=3\n",
    "2+3=5\n",
    "3+5=8\n",
    "5+8=13\n",
    "8+13=21\n",
    "13+21=34"
   ]
  },
  {
   "cell_type": "code",
   "execution_count": 18,
   "id": "1463a1f6-a5b6-458e-8dc0-a1b57e31ffff",
   "metadata": {},
   "outputs": [
    {
     "name": "stdin",
     "output_type": "stream",
     "text": [
      "Nhập n số fibonacci đầu tiên muốn tính:  5\n"
     ]
    },
    {
     "name": "stdout",
     "output_type": "stream",
     "text": [
      "Tổng của n số fibonacci đầu tiên là:  7\n"
     ]
    }
   ],
   "source": [
    "# Tính tổng n số fibonacci đầu tiên\n",
    "n = int(input(\"Nhập n số fibonacci đầu tiên muốn tính: \"))\n",
    "if n<=0:\n",
    "    print(\"Số lượng phải lớn hơn 0\")\n",
    "else:\n",
    "    # 2 số fibonacci đầu tiên\n",
    "    a=0\n",
    "    b=1 \n",
    "    \n",
    "    sum = 0 # tổng các số\n",
    "    count = 0 # đếm số lượng số fibonacci đã tính \n",
    "\n",
    "    while count<n:\n",
    "        sum = sum+a\n",
    "        a, b = b, a+b\n",
    "        count+=1\n",
    "        \n",
    "    print(\"Tổng của n số fibonacci đầu tiên là: \", sum)"
   ]
  },
  {
   "cell_type": "code",
   "execution_count": 17,
   "id": "870216e5-9d7a-44c0-85d1-09c878f69a83",
   "metadata": {},
   "outputs": [
    {
     "name": "stdout",
     "output_type": "stream",
     "text": [
      "Tổng của n số fibonacci đầu tiên là:  7\n"
     ]
    }
   ],
   "source": [
    "def sumNFibonacci(n):\n",
    "    if n<=0:\n",
    "        print(\"Số lượng phải lớn hơn 0\")\n",
    "    else:\n",
    "        # 2 số fibonacci đầu tiên\n",
    "        a=0\n",
    "        b=1 \n",
    "        \n",
    "        sum = 0 # tổng các số\n",
    "        count = 0 # đếm số lượng số fibonacci đã tính \n",
    "    \n",
    "        while count<n:\n",
    "            sum = sum+a\n",
    "            a, b = b, a+b\n",
    "            count+=1\n",
    "            \n",
    "        print(\"Tổng của n số fibonacci đầu tiên là: \", sum)\n",
    "sumNFibonacci(5)"
   ]
  },
  {
   "cell_type": "code",
   "execution_count": 6,
   "id": "f7cfb5a6-90d5-4e29-a1f5-ef940327a7d2",
   "metadata": {},
   "outputs": [
    {
     "data": {
      "text/plain": [
       "4.846153846153846"
      ]
     },
     "execution_count": 6,
     "metadata": {},
     "output_type": "execute_result"
    }
   ],
   "source": [
    "# Viết hàm tính trung bình cộng của một danh sách các số\n",
    "def trung_binh_cong(list):\n",
    "    return sum(list)/len(list)\n",
    "trung_binh_cong([2,3,5,9,6,7,4,5,1,2,4,6,9])"
   ]
  },
  {
   "cell_type": "code",
   "execution_count": 3,
   "id": "39702f8b-3ddb-4af3-b9ff-27792c421e1e",
   "metadata": {},
   "outputs": [
    {
     "data": {
      "text/plain": [
       "120"
      ]
     },
     "execution_count": 3,
     "metadata": {},
     "output_type": "execute_result"
    }
   ],
   "source": [
    "# #TH1\n",
    "# 0! = 1 \n",
    "\n",
    "# #TH2\n",
    "# 1! = 1.1 = 1.0!\n",
    "# 2! = 2.1 = 2.1!\n",
    "# 3! = 3.2.1 = 3.2!\n",
    "# n! = n.(n-1). ... .1 = n.(n-1)!\n",
    "\n",
    "# Viết hàm tính giai thừa của một số nguyên\n",
    "def giai_thua(n):\n",
    "    if n==0:\n",
    "        return 1\n",
    "    else:\n",
    "        return n*giai_thua(n-1)\n",
    "\n",
    "giai_thua(5)\n",
    "# 5! = 5.4! = 5.4.3! = 5.4.3.2! = 5.4.3.2.1! = 5.4.3.2.1.0! = 5.4.3.2.1.1 = 120"
   ]
  },
  {
   "cell_type": "code",
   "execution_count": 14,
   "id": "960de3ef-14ea-4924-9ba6-7c07334320a8",
   "metadata": {},
   "outputs": [
    {
     "name": "stdin",
     "output_type": "stream",
     "text": [
      "Số cần tính giai thừa: 5\n"
     ]
    },
    {
     "name": "stdout",
     "output_type": "stream",
     "text": [
      "Giai thừa của 5  là: 120\n"
     ]
    }
   ],
   "source": [
    "# viết hàm tính giai thừa của một số nguyên\n",
    "\n",
    "def giaithua(n):\n",
    "    if n < 0:  # Nếu n < 0\n",
    "        print('Nhập lại số khác')  # trả về lời nhắc do không thỏa mãn\n",
    "    elif n == 0 or n == 1:  # nếu n = 0 hoặc n = 1 thì trả vè giá trị là 1\n",
    "        print('Giai thừa của', n, 'là: 1')\n",
    "    else:  \n",
    "        giai_thua = 1\n",
    "        for i in range(1, n+1):  # tạo vòng lặp tính giai thừa cho n\n",
    "            giai_thua *= i  # n! = 1*2*3*4*...*n\n",
    "        print('Giai thừa của', n, ' là:', giai_thua)  # trả về giá trị của n!\n",
    "        \n",
    "\n",
    "n = int(input('Số cần tính giai thừa:'))\n",
    "giaithua(n)"
   ]
  },
  {
   "cell_type": "code",
   "execution_count": 11,
   "id": "f16452a8-6602-46ad-9ac1-13833921eef6",
   "metadata": {},
   "outputs": [
    {
     "name": "stdout",
     "output_type": "stream",
     "text": [
      "điểm trung bình công\n"
     ]
    },
    {
     "name": "stdin",
     "output_type": "stream",
     "text": [
      "Nhập số phần tử cần tính trung bình cộng:  3\n",
      "Nhập số cần tính:  1\n",
      "Nhập số cần tính:  2\n",
      "Nhập số cần tính:  3\n"
     ]
    },
    {
     "name": "stdout",
     "output_type": "stream",
     "text": [
      "điểm trung bình= 2.0\n"
     ]
    }
   ],
   "source": [
    "print(\"điểm trung bình công\")\n",
    "n = int(input(\"Nhập số phần tử cần tính trung bình cộng: \"))\n",
    "sum = 0\n",
    "for i in range(n): #0-2: 0,1,2\n",
    "    i = int(input(\"Nhập số cần tính: \"))\n",
    "    sum += i\n",
    "dtb = sum/n\n",
    "print(\"điểm trung bình=\",dtb)"
   ]
  },
  {
   "cell_type": "code",
   "execution_count": 18,
   "id": "f3a62e9a-2391-47dd-b43e-cb96e8fa3e1c",
   "metadata": {},
   "outputs": [
    {
     "name": "stdin",
     "output_type": "stream",
     "text": [
      "Nhập số gai thừa cần tính:  5\n"
     ]
    },
    {
     "name": "stdout",
     "output_type": "stream",
     "text": [
      "Kết quả tính được là:  120\n"
     ]
    }
   ],
   "source": [
    "def tinh_giai_thua():\n",
    "    n = int(input(\"Nhập số gai thừa cần tính: \"))\n",
    "    \n",
    "    if n < 0:\n",
    "        print(\"vui lòng nhập số lớn hơn 0\")\n",
    "    else:\n",
    "        giaithua = 1\n",
    "        for i in range(1,n+1):\n",
    "            giaithua = giaithua*i\n",
    "        print(\"Kết quả tính được là: \", giaithua)\n",
    "tinh_giai_thua()"
   ]
  },
  {
   "cell_type": "code",
   "execution_count": null,
   "id": "acb954c3-d175-4555-afcf-cba979d0d11a",
   "metadata": {},
   "outputs": [],
   "source": [
    "# Viết hàm sắp xếp một danh sách các số tăng dần"
   ]
  },
  {
   "cell_type": "code",
   "execution_count": 4,
   "id": "9a086b22-93d5-493f-8543-1034997f0366",
   "metadata": {},
   "outputs": [
    {
     "name": "stdout",
     "output_type": "stream",
     "text": [
      "[8, 5, 6, 7, 2, 8, 9, 1]\n"
     ]
    },
    {
     "name": "stdin",
     "output_type": "stream",
     "text": [
      "Phần tử cần tìm chỉ số: 8\n"
     ]
    },
    {
     "name": "stdout",
     "output_type": "stream",
     "text": [
      "Chỉ số của phần tử 8 là: [0, 5]\n"
     ]
    }
   ],
   "source": [
    "# Viết hàm tìm kiếm phần tử trong một danh sách và trả về chỉ số của phần tử đó, nếu không tìm thấy thì trả về -1\n",
    "\n",
    "def tim_phan_tu(ds, pt):  # khai báo hàm với 2 đối số là danh sách và phần tử cần tìm chỉ số trong danh sách đó\n",
    "    chi_so = []\n",
    "    for i in range(len(ds)):  # tạo vòng lặp xác định chỉ số của phần tử cần tìm\n",
    "        if ds[i] == pt:  # khi có phần tử bằng với phần tử cần tìm thì trả về giá trị của chỉ số\n",
    "            chi_so.append(i)  # Trả về chỉ số của phần tử nếu tìm thấy\n",
    "    if len(chi_so) == 0:\n",
    "        return -1  # Trả về -1 nếu không tìm thấy phần tử\n",
    "    return chi_so\n",
    "\n",
    "\n",
    "ds = [8, 5, 6, 7, 2, 8, 9, 1]\n",
    "print(ds)\n",
    "pt = int(input('Phần tử cần tìm chỉ số:'))\n",
    "\n",
    "chi_so = tim_phan_tu(ds, pt)\n",
    "print(\"Chỉ số của phần tử\", pt, \"là:\", chi_so)\n"
   ]
  },
  {
   "cell_type": "code",
   "execution_count": 18,
   "id": "02f57ca0-a071-484f-beae-00541a7fe71a",
   "metadata": {},
   "outputs": [
    {
     "name": "stdout",
     "output_type": "stream",
     "text": [
      "5\n"
     ]
    }
   ],
   "source": [
    "#Viết hàm sắp xếp một danh sách các số tăng dần:\n",
    "\n",
    "def Increase(n):\n",
    "    length = len(n)\n",
    "    for i in range(length):\n",
    "        for j in range(i+1,length):\n",
    "            if n[i] > n[j]:\n",
    "                a = n[i]\n",
    "                n[i] = n[j]\n",
    "                n[j] = a\n",
    "    return i\n",
    "\n",
    "x = [1,5,7,9,2,3]\n",
    "y = Increase(x)\n",
    "print(y)"
   ]
  },
  {
   "cell_type": "code",
   "execution_count": 1,
   "id": "c7508019-dcee-4867-8110-e77b1be02ea7",
   "metadata": {},
   "outputs": [],
   "source": [
    "a =3"
   ]
  },
  {
   "cell_type": "code",
   "execution_count": 2,
   "id": "51feb826-3c4e-47a7-be2d-3be30150a041",
   "metadata": {},
   "outputs": [
    {
     "name": "stdout",
     "output_type": "stream",
     "text": [
      "3\n"
     ]
    }
   ],
   "source": [
    "print(a)"
   ]
  },
  {
   "cell_type": "code",
   "execution_count": 1,
   "id": "275c6ea4-4b61-46e4-b618-a5cec9dd5b59",
   "metadata": {},
   "outputs": [
    {
     "name": "stdin",
     "output_type": "stream",
     "text": [
      "Enter the name of the file:  test\n"
     ]
    },
    {
     "name": "stdout",
     "output_type": "stream",
     "text": [
      "Error: File 'test' not found.\n"
     ]
    }
   ],
   "source": [
    "def count_character_occurrences(file_name):\n",
    "    try:\n",
    "        # Đọc nội dung từ file\n",
    "        with open(file_name, 'r', encoding='utf-8') as file:\n",
    "            text = file.read()\n",
    "        \n",
    "        # Tạo từ điển để lưu trữ số lần xuất hiện của từng ký tự\n",
    "        char_count = {}\n",
    "        \n",
    "        # Duyệt qua từng ký tự trong văn bản\n",
    "        for char in text:\n",
    "            # Nếu ký tự đã có trong từ điển, tăng số lần xuất hiện\n",
    "            if char in char_count:\n",
    "                char_count[char] += 1\n",
    "            else:\n",
    "                # Nếu chưa, thêm ký tự vào từ điển với giá trị là 1\n",
    "                char_count[char] = 1\n",
    "        \n",
    "        # In kết quả\n",
    "        for char, count in char_count.items():\n",
    "            print(f\"{char}: {count}\")\n",
    "    except FileNotFoundError:\n",
    "        print(f\"Error: File '{file_name}' not found.\")\n",
    "    except Exception as e:\n",
    "        print(f\"An error occurred: {e}\")\n",
    "\n",
    "# Nhập tên file từ người dùng\n",
    "file_name = input(\"Enter the name of the file: \")\n",
    "count_character_occurrences(file_name)"
   ]
  },
  {
   "cell_type": "code",
   "execution_count": 2,
   "id": "59db2618-4c88-4882-bd05-8c26218f6d8e",
   "metadata": {},
   "outputs": [
    {
     "name": "stdout",
     "output_type": "stream",
     "text": [
      "Pantech123\n"
     ]
    }
   ],
   "source": [
    "print(\"Pantech123\")"
   ]
  },
  {
   "cell_type": "code",
   "execution_count": null,
   "id": "5a0fdc93-f6b3-4a8b-a832-661a97abfe8e",
   "metadata": {},
   "outputs": [],
   "source": []
  }
 ],
 "metadata": {
  "kernelspec": {
   "display_name": "Python 3 (ipykernel)",
   "language": "python",
   "name": "python3"
  },
  "language_info": {
   "codemirror_mode": {
    "name": "ipython",
    "version": 3
   },
   "file_extension": ".py",
   "mimetype": "text/x-python",
   "name": "python",
   "nbconvert_exporter": "python",
   "pygments_lexer": "ipython3",
   "version": "3.11.7"
  }
 },
 "nbformat": 4,
 "nbformat_minor": 5
}
