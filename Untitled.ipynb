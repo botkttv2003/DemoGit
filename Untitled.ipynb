{
 "cells": [
  {
   "cell_type": "code",
   "execution_count": 1,
   "id": "f2fa2790-d4db-4f12-b146-772c6fa6b462",
   "metadata": {},
   "outputs": [],
   "source": [
    "import turtle\n",
    "\n",
    "# Tạo đối tượng turtle\n",
    "t = turtle.Turtle()\n",
    "\n",
    "# Thiết lập tốc độ vẽ (tốc độ tối đa là 10)\n",
    "t.speed(5)  # Tốc độ từ 1 (chậm) đến 10 (nhanh)\n",
    "\n",
    "# Thiết lập màu của bút\n",
    "t.pencolor(\"blue\")\n",
    "\n",
    "# Thiết lập màu để tô\n",
    "t.fillcolor(\"green\")\n",
    "\n",
    "# Thiết lập độ dày của bút\n",
    "t.pensize(3)\n",
    "\n",
    "# Bắt đầu vẽ hình vuông\n",
    "t.begin_fill()  # Bắt đầu vùng tô màu\n",
    "\n",
    "t.forward(100)  # Vẽ cạnh đầu tiên\n",
    "t.left(90)\n",
    "t.forward(100)  # Vẽ cạnh thứ hai\n",
    "t.left(90)\n",
    "t.forward(100)  # Vẽ cạnh thứ ba\n",
    "t.left(90)\n",
    "t.forward(100)  # Vẽ cạnh cuối cùng\n",
    "\n",
    "t.end_fill()  # Kết thúc vùng tô màu\n",
    "\n",
    "# Di chuyển \"rùa\" đến vị trí mới mà không vẽ\n",
    "t.penup()\n",
    "t.forward(150)\n",
    "t.pendown()\n",
    "\n",
    "# Thay đổi màu sắc của bút và rùa\n",
    "t.pencolor(\"red\")    # Đổi màu bút thành đỏ\n",
    "t.fillcolor(\"yellow\")  # Đổi màu tô thành vàng\n",
    "t.speed(3)  # Giảm tốc độ vẽ xuống thấp hơn\n",
    "\n",
    "# Vẽ một hình tròn với màu mới\n",
    "t.begin_fill()\n",
    "t.circle(50)  # Bán kính 50\n",
    "t.end_fill()\n",
    "\n",
    "# Kết thúc chương trình và giữ cửa sổ mở\n",
    "turtle.done()\n"
   ]
  },
  {
   "cell_type": "code",
   "execution_count": null,
   "id": "aa2cf7d4-6016-419b-8657-de06ab04bd35",
   "metadata": {},
   "outputs": [],
   "source": []
  }
 ],
 "metadata": {
  "kernelspec": {
   "display_name": "Python 3 (ipykernel)",
   "language": "python",
   "name": "python3"
  },
  "language_info": {
   "codemirror_mode": {
    "name": "ipython",
    "version": 3
   },
   "file_extension": ".py",
   "mimetype": "text/x-python",
   "name": "python",
   "nbconvert_exporter": "python",
   "pygments_lexer": "ipython3",
   "version": "3.11.7"
  }
 },
 "nbformat": 4,
 "nbformat_minor": 5
}
